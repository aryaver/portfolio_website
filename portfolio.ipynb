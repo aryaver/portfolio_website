{
 "cells": [
  {
   "cell_type": "code",
   "execution_count": 82,
   "metadata": {},
   "outputs": [],
   "source": [
    "import dash\n",
    "from dash import html, dcc\n",
    "from dash.dependencies import Input, Output, State\n",
    "import dash_bootstrap_components as dbc"
   ]
  },
  {
   "cell_type": "code",
   "execution_count": 83,
   "metadata": {},
   "outputs": [],
   "source": [
    "app = dash.Dash(external_stylesheets=[dbc.themes.LUMEN])"
   ]
  },
  {
   "cell_type": "code",
   "execution_count": 84,
   "metadata": {},
   "outputs": [],
   "source": [
    "app.layout = html.Div(children = [\n",
    "                       \n",
    "                        html.Div([  dbc.Button(\"Explore\", id = 'explore-site-button', n_clicks = 0),\n",
    "                                    dbc.Offcanvas(html.Div(id = 'offcanvas-body', \n",
    "                                                           children = [ html.Div(\"HOME\"),\n",
    "                                                                        html.Div(dcc.Link(\"ABOUT\", href = '#about-section')),\n",
    "                                                                        html.Div(\"SKILLS\"),\n",
    "                                                                        html.Div(\"EXPERIENCE\"),\n",
    "                                                                        html.Div(\"PROJECTS\"),\n",
    "                                                                       html.Div(\"CONTACT\")], className = 'fw-bold'),\n",
    "                                                        id = 'offcanvas', is_open = False, keyboard = True, \n",
    "                                                  scrollable = True, title = \"Explore Website\"),\n",
    "                                                  \n",
    "                                ]),\n",
    "\n",
    "                        html.H1(\"ARYA VERMA\", className = 'text-center fw-bold'),\n",
    "                        \n",
    "                        html.Div(id = 'photo-gallery'),\n",
    "                       \n",
    "                        html.Div(\"ABOUT\", id = 'about-section', className = 'fw-bold text-center'),      \n",
    "\n",
    "                        html.Div(\"SKILLS\", id = 'skills-section', className = 'fw-bold text-center'),\n",
    "\n",
    "                        html.Div(\"EXPERIENCE\", id = 'experience-section', className = 'fw-bold text-center'),\n",
    "\n",
    "                        html.Div(\"PROJECTS\", id = 'projects-section', className = 'fw-bold text-center'),\n",
    "\n",
    "                        html.Div(\"CONTACT\", id = 'contact-section', className = 'fw-bold text-center'),\n",
    "                       \n",
    "], style = {})  "
   ]
  },
  {
   "cell_type": "code",
   "execution_count": 85,
   "metadata": {},
   "outputs": [],
   "source": [
    "@app.callback(\n",
    "    Output('offcanvas', 'is_open'),\n",
    "    Input('explore-site-button', 'n_clicks'),\n",
    "    State('offcanvas', 'is_open'),\n",
    ")\n",
    "def open_offcanvas(n_clicks, is_open):\n",
    "    if n_clicks:\n",
    "        return not is_open\n",
    "    return is_open"
   ]
  },
  {
   "cell_type": "code",
   "execution_count": 86,
   "metadata": {},
   "outputs": [
    {
     "data": {
      "text/html": [
       "\n",
       "        <iframe\n",
       "            width=\"100%\"\n",
       "            height=\"650\"\n",
       "            src=\"http://127.0.0.1:8050/\"\n",
       "            frameborder=\"0\"\n",
       "            allowfullscreen\n",
       "            \n",
       "        ></iframe>\n",
       "        "
      ],
      "text/plain": [
       "<IPython.lib.display.IFrame at 0x162b03e2110>"
      ]
     },
     "metadata": {},
     "output_type": "display_data"
    }
   ],
   "source": [
    "if __name__ == '__main__':\n",
    "    app.run_server(debug = True)"
   ]
  },
  {
   "cell_type": "code",
   "execution_count": null,
   "metadata": {},
   "outputs": [],
   "source": []
  }
 ],
 "metadata": {
  "kernelspec": {
   "display_name": "Python 3",
   "language": "python",
   "name": "python3"
  },
  "language_info": {
   "codemirror_mode": {
    "name": "ipython",
    "version": 3
   },
   "file_extension": ".py",
   "mimetype": "text/x-python",
   "name": "python",
   "nbconvert_exporter": "python",
   "pygments_lexer": "ipython3",
   "version": "3.11.5"
  },
  "orig_nbformat": 4
 },
 "nbformat": 4,
 "nbformat_minor": 2
}
