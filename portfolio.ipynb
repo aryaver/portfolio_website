{
 "cells": [
  {
   "cell_type": "code",
   "execution_count": 8,
   "metadata": {},
   "outputs": [],
   "source": [
    "import dash\n",
    "from dash import html, dcc\n",
    "from dash.dependencies import Input, Output, State\n",
    "import dash_bootstrap_components as dbc"
   ]
  },
  {
   "cell_type": "code",
   "execution_count": 9,
   "metadata": {},
   "outputs": [],
   "source": [
    "app = dash.Dash(external_stylesheets=[dbc.themes.CYBORG]) #cyborg, materia, minty, morph, quartz, sketchy, slate, lumen"
   ]
  },
  {
   "cell_type": "code",
   "execution_count": 10,
   "metadata": {},
   "outputs": [],
   "source": [
    "app.layout = html.Div(children = [\n",
    "                       \n",
    "                        html.Div([  dbc.Button(\"Explore\", id = 'explore-site-button', n_clicks = 0),\n",
    "                                    dbc.Offcanvas(html.Div(id = 'offcanvas-body', \n",
    "                                                           children = [ html.Div(html.A(\"HOME\", href = '#home-section')),\n",
    "                                                                        html.Div(html.A(\"ABOUT\", href = '#about-section')),\n",
    "                                                                        html.Div(html.A(\"SKILLS\", href = '#skills-section')),\n",
    "                                                                        # html.Div(html.A(\"CLUBS and ACTIVITIES\", href = '#clubs-section')),\n",
    "                                                                        html.Div(html.A(\"EXPERIENCE\", href = '#experience-section')),\n",
    "                                                                        html.Div(html.A(\"PROJECTS\", href = '#projects-section')),\n",
    "                                                                       html.Div(html.A(\"CONTACT\", href = '#contact-section'))], \n",
    "                                                            className = 'fw-bold'),\n",
    "                                                        id = 'offcanvas', is_open = False, keyboard = True, \n",
    "                                                  scrollable = True, title = \"Explore Website\"),\n",
    "                                                  \n",
    "                                ]),\n",
    "\n",
    "                        html.H1(\"ARYA VERMA\", id = 'home-section', className = 'text-center fw-bold'),\n",
    "                        \n",
    "                        html.Div(id = 'photo-gallery'),\n",
    "                       \n",
    "                        html.H2(\"ABOUT\", id = 'about-section', className = 'fw-bold text-center'),      \n",
    "\n",
    "                        html.H2(\"SKILLS\", id = 'skills-section', className = 'fw-bold text-center'),\n",
    "\n",
    "                        # html.H2(\"CLUBS and ACTIVITIES\", id = 'clubs-section', className = 'fw-bold text-center'),\n",
    "\n",
    "                        html.H2(\"EXPERIENCE\", id = 'experience-section', className = 'fw-bold text-center'),\n",
    "\n",
    "                        # html.Div(dbc.Tabs([\n",
    "                        #             dbc.Tab(label = \"CLUBS\", tab_id = 'tab-1'),\n",
    "                        #             dbc.Tab(label = \"CLUBS\", tab_id = 'tab-2')\n",
    "                        #             ], id = 'tabs', active_tab = 'tab-1')),\n",
    "\n",
    "                        html.Div(id = 'experience'),\n",
    "\n",
    "                        html.Div([dbc.Row([\n",
    "                                          dbc.Col(html.Div(dbc.Accordion([\n",
    "                                                                        dbc.AccordionItem(\"write bout sangam\", title = 'General Secretary, Sangam Club', item_id = 'item-1'),\n",
    "                                                                        dbc.AccordionItem(\"write about IEEE WIE\", title = 'Technical Dept., IEEE WIE', item_id = 'item-2'),\n",
    "                                                                        dbc.AccordionItem(\"write about Uddeshya\", title = \"Design Dept., Uddeshya Club\", item_id = 'item-3'),\n",
    "                                                                        dbc.AccordionItem(\"write about Culinary\", title = \"Co-ordination Dept., Culinary Club\", item_id = 'item-4'),\n",
    "                                          ], id = 'accordian', active_item = 'item-1'))),\n",
    "                                          dbc.Col(html.Div(id = 'club-images'))\n",
    "                                          ], align = 'center')\n",
    "                        ]),                      \n",
    "                        \n",
    "                        html.H2(\"PROJECTS\", id = 'projects-section', className = 'fw-bold text-center'),\n",
    "\n",
    "                        html.Div(dbc.Carousel(items = [{'key': '1'},\n",
    "                                                       {'key': '2'},\n",
    "                                                       {'key': '3'}],\n",
    "                                                       )),\n",
    "\n",
    "                        html.Div(id = 'contact-section', className = 'fw-bold text-center', \n",
    "                                    children = [html.Div(html.H2(\"CONTACT\", className = 'fw-bold text-center')), \n",
    "                                                html.A(html.Img(src = \"assets/Linkedin_logo.png\", style = {'height': '50px', 'width': '50px'}), target = 'Blank', href = \"https://www.linkedin.com/in/arya-verma-a18719279/\"),\n",
    "                                                html.A(html.Img(src = \"assets/Instagram_logo.png\", style = {'height': '50px', 'width': '50px'}), target = 'Blank', href = \"https://www.instagram.com/aryya__a/\")]),\n",
    "\n",
    "                        # html.Div()\n",
    "                       \n",
    "])  "
   ]
  },
  {
   "cell_type": "code",
   "execution_count": null,
   "metadata": {},
   "outputs": [],
   "source": []
  },
  {
   "cell_type": "code",
   "execution_count": 11,
   "metadata": {},
   "outputs": [],
   "source": [
    "@app.callback(\n",
    "    Output('club-images', 'children'),\n",
    "    Input('accordian', 'active_item')\n",
    ")\n",
    "def display_club_image(item):\n",
    "    if item == 'item-1':\n",
    "        return html.Img(src = \"assets/Linkedin_logo.png\") #test images\n",
    "    if item == 'item-2':\n",
    "        return html.Img(src = \"assets/Instagram_logo.png\", style = {'height': '500px', 'width': '500px'})\n",
    "    if item == 'item-3':\n",
    "        return html.Img(src = \"assets/Linkedin_logo.png\")\n",
    "    if item == 'item-4':\n",
    "        return html.Img(src = \"assets/Linkedin_logo.png\")"
   ]
  },
  {
   "cell_type": "code",
   "execution_count": 12,
   "metadata": {},
   "outputs": [],
   "source": [
    "@app.callback(\n",
    "    Output('offcanvas', 'is_open'),\n",
    "    Input('explore-site-button', 'n_clicks'),\n",
    "    State('offcanvas', 'is_open'),\n",
    ")\n",
    "def open_offcanvas(n_clicks, is_open):\n",
    "    if n_clicks:\n",
    "        return not is_open\n",
    "    return is_open"
   ]
  },
  {
   "cell_type": "code",
   "execution_count": 13,
   "metadata": {},
   "outputs": [
    {
     "data": {
      "text/html": [
       "\n",
       "        <iframe\n",
       "            width=\"100%\"\n",
       "            height=\"650\"\n",
       "            src=\"http://127.0.0.1:8060/\"\n",
       "            frameborder=\"0\"\n",
       "            allowfullscreen\n",
       "            \n",
       "        ></iframe>\n",
       "        "
      ],
      "text/plain": [
       "<IPython.lib.display.IFrame at 0x1c9e576b250>"
      ]
     },
     "metadata": {},
     "output_type": "display_data"
    }
   ],
   "source": [
    "if __name__ == '__main__':\n",
    "    app.run_server(debug = True, port = 8060, mode = 'external')"
   ]
  }
 ],
 "metadata": {
  "kernelspec": {
   "display_name": "Python 3",
   "language": "python",
   "name": "python3"
  },
  "language_info": {
   "codemirror_mode": {
    "name": "ipython",
    "version": 3
   },
   "file_extension": ".py",
   "mimetype": "text/x-python",
   "name": "python",
   "nbconvert_exporter": "python",
   "pygments_lexer": "ipython3",
   "version": "3.11.5"
  },
  "orig_nbformat": 4
 },
 "nbformat": 4,
 "nbformat_minor": 2
}
